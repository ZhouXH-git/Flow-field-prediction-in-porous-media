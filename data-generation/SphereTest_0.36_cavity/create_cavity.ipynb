{
 "cells": [
  {
   "cell_type": "code",
   "execution_count": 1,
   "metadata": {},
   "outputs": [
    {
     "name": "stdout",
     "output_type": "stream",
     "text": [
      "Remove sphere at 0.494161 0.39738 0.415044\n",
      "Remove sphere at 0.467068 0.625264 0.422405\n",
      "Remove sphere at 0.449158 0.416539 0.49843\n",
      "Remove sphere at 0.547454 0.4697 0.349099\n",
      "Remove sphere at 0.621113 0.552523 0.502697\n",
      "Remove sphere at 0.538883 0.320623 0.446145\n",
      "Remove sphere at 0.453599 0.675302 0.596009\n",
      "Remove sphere at 0.466897 0.334841 0.515676\n",
      "Remove sphere at 0.466759 0.523203 0.434876\n",
      "Remove sphere at 0.452812 0.445322 0.336031\n",
      "Remove sphere at 0.377501 0.362678 0.488136\n",
      "Remove sphere at 0.609825 0.555867 0.399071\n",
      "Remove sphere at 0.359194 0.491521 0.482179\n",
      "Remove sphere at 0.336919 0.56406 0.586885\n",
      "Remove sphere at 0.519378 0.598181 0.357178\n",
      "Remove sphere at 0.484924 0.341881 0.612756\n",
      "Remove sphere at 0.363347 0.434901 0.547164\n",
      "Remove sphere at 0.54089 0.571442 0.550612\n",
      "Remove sphere at 0.498498 0.569813 0.637453\n",
      "Remove sphere at 0.595678 0.433704 0.496034\n",
      "Remove sphere at 0.403432 0.415326 0.418627\n",
      "Remove sphere at 0.684469 0.521781 0.488975\n",
      "Remove sphere at 0.355419 0.554043 0.45528\n",
      "Remove sphere at 0.46915 0.467376 0.607393\n",
      "Remove sphere at 0.561973 0.534268 0.643307\n",
      "Remove sphere at 0.446272 0.585597 0.532989\n",
      "Remove sphere at 0.338374 0.495455 0.390187\n",
      "Remove sphere at 0.432117 0.651066 0.478608\n",
      "Remove sphere at 0.561709 0.388053 0.614229\n",
      "Remove sphere at 0.652475 0.545392 0.5936\n",
      "Remove sphere at 0.535925 0.641283 0.456139\n"
     ]
    }
   ],
   "source": [
    "import pandas as pd\n",
    "import numpy as np\n",
    "from matplotlib import pyplot\n",
    "\n",
    "P=pd.read_csv(\"pack.csv\",sep=\" \")\n",
    "\n",
    "cx = []\n",
    "cy = []\n",
    "cz = []\n",
    "radius = []\n",
    "\n",
    "# remove any spheres that overlap with sphere\n",
    "# center sphere at (0.125, 0.125, 0.125)\n",
    "\n",
    "sphere_radius=0.15\n",
    "\n",
    "for i in range(0,len(P)):\n",
    "    x=P['cx'][i]\n",
    "    y=P['cy'][i]\n",
    "    z=P['cz'][i]\n",
    "    r=P['radius'][i]\n",
    "    # remove spheres that overlap with sphere\n",
    "    distance_to_sphere = np.sqrt((x-0.5)*(x-0.5)+(y-0.5)*(y-0.5)+(z-0.5)*(z-0.5)) - sphere_radius - r\n",
    "    \n",
    "    if distance_to_sphere > 0.0:\n",
    "        cx.append(x)\n",
    "        cy.append(y)\n",
    "        cz.append(z)\n",
    "        radius.append(r)\n",
    "    else:\n",
    "        print('Remove sphere at',x,y,z)"
   ]
  },
  {
   "cell_type": "code",
   "execution_count": 2,
   "metadata": {},
   "outputs": [],
   "source": [
    "D = {'cx':cx, 'cy':cy, 'cz':cz, 'radius':radius}"
   ]
  },
  {
   "cell_type": "code",
   "execution_count": 3,
   "metadata": {},
   "outputs": [
    {
     "name": "stdout",
     "output_type": "stream",
     "text": [
      "           cx        cy        cz    radius\n",
      "0    0.318346  0.628691  0.099787  0.041035\n",
      "1    0.778602  0.021618  0.498489  0.049350\n",
      "2    0.461410  0.329481  0.870039  0.047511\n",
      "3    0.135043  0.276290  0.212006  0.038714\n",
      "4    0.990674  0.384155  0.807111  0.051452\n",
      "..        ...       ...       ...       ...\n",
      "964  0.811187  0.820646  0.659143  0.042008\n",
      "965  0.865234  0.491254  0.192953  0.029167\n",
      "966  0.485424  0.981400  0.199851  0.058477\n",
      "967  0.903202  0.873293  0.386565  0.044054\n",
      "968  0.586014  0.173004  0.163995  0.055159\n",
      "\n",
      "[969 rows x 4 columns]\n"
     ]
    }
   ],
   "source": [
    "# this  data frame now contains only the spheres that don't overlap the channel\n",
    "df = pd.DataFrame(D)\n",
    "print(df)"
   ]
  },
  {
   "cell_type": "code",
   "execution_count": 4,
   "metadata": {},
   "outputs": [],
   "source": [
    "df.to_csv(\"packoutnew.csv\",index=False,float_format='%.6g',sep=' ')"
   ]
  },
  {
   "cell_type": "code",
   "execution_count": null,
   "metadata": {},
   "outputs": [],
   "source": []
  },
  {
   "cell_type": "code",
   "execution_count": null,
   "metadata": {},
   "outputs": [],
   "source": []
  }
 ],
 "metadata": {
  "kernelspec": {
   "display_name": "Python 3",
   "language": "python",
   "name": "python3"
  },
  "language_info": {
   "codemirror_mode": {
    "name": "ipython",
    "version": 3
   },
   "file_extension": ".py",
   "mimetype": "text/x-python",
   "name": "python",
   "nbconvert_exporter": "python",
   "pygments_lexer": "ipython3",
   "version": "3.7.6"
  }
 },
 "nbformat": 4,
 "nbformat_minor": 4
}
