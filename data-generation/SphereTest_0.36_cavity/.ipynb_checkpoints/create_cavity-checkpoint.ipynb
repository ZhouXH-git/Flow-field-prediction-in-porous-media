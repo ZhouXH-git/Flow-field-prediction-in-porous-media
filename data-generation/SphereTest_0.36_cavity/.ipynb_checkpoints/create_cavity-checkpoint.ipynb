{
 "cells": [
  {
   "cell_type": "code",
   "execution_count": 1,
   "metadata": {},
   "outputs": [
    {
     "name": "stdout",
     "output_type": "stream",
     "text": [
      "Remove sphere at 0.412377 0.326342 0.474128\n",
      "Remove sphere at 0.366986 0.382537 0.203007\n",
      "Remove sphere at 0.463515 0.3058 0.405787\n",
      "Remove sphere at 0.398321 0.49614 0.233746\n",
      "Remove sphere at 0.467795 0.429346 0.232218\n",
      "Remove sphere at 0.476634 0.273651 0.520434\n",
      "Remove sphere at 0.401679 0.299224 0.555081\n",
      "Remove sphere at 0.518881 0.362112 0.369417\n",
      "Remove sphere at 0.351101 0.482928 0.482055\n",
      "Remove sphere at 0.419005 0.228574 0.447278\n",
      "Remove sphere at 0.32038 0.329661 0.293355\n",
      "Remove sphere at 0.522063 0.375531 0.271108\n",
      "Remove sphere at 0.471611 0.561121 0.422069\n",
      "Remove sphere at 0.251178 0.48027 0.331231\n",
      "Remove sphere at 0.284669 0.510717 0.489152\n",
      "Remove sphere at 0.410887 0.420086 0.522745\n",
      "Remove sphere at 0.401437 0.556944 0.482979\n",
      "Remove sphere at 0.475118 0.49753 0.550841\n",
      "Remove sphere at 0.456206 0.389339 0.42687\n",
      "Remove sphere at 0.401197 0.502401 0.351149\n",
      "Remove sphere at 0.472464 0.506415 0.471524\n",
      "Remove sphere at 0.317946 0.270859 0.500329\n",
      "Remove sphere at 0.425886 0.266724 0.309823\n",
      "Remove sphere at 0.488824 0.492484 0.366298\n",
      "Remove sphere at 0.282708 0.404274 0.500882\n",
      "Remove sphere at 0.38469 0.572682 0.308723\n",
      "Remove sphere at 0.554342 0.436961 0.452393\n",
      "Remove sphere at 0.288999 0.342952 0.403593\n",
      "Remove sphere at 0.374098 0.325987 0.39155\n",
      "Remove sphere at 0.4122 0.469462 0.427938\n",
      "Remove sphere at 0.358966 0.40187 0.421095\n",
      "Remove sphere at 0.30294 0.240778 0.370063\n",
      "Remove sphere at 0.419069 0.403353 0.322312\n",
      "Remove sphere at 0.524011 0.328493 0.462136\n"
     ]
    }
   ],
   "source": [
    "import pandas as pd\n",
    "import numpy as np\n",
    "from matplotlib import pyplot\n",
    "\n",
    "P=pd.read_csv(\"pack.csv\",sep=\" \")\n",
    "\n",
    "cx = []\n",
    "cy = []\n",
    "cz = []\n",
    "radius = []\n",
    "\n",
    "# remove any spheres that overlap with sphere\n",
    "# center sphere at (0.125, 0.125, 0.125)\n",
    "\n",
    "sphere_radius=0.15\n",
    "\n",
    "for i in range(0,len(P)):\n",
    "    x=P['cx'][i]\n",
    "    y=P['cy'][i]\n",
    "    z=P['cz'][i]\n",
    "    r=P['radius'][i]\n",
    "    # remove spheres that overlap with sphere\n",
    "    distance_to_sphere = np.sqrt((x-0.6)*(x-0.6)+(y-0.6)*(y-0.6)+(z-0.6)*(z-0.6)) - sphere_radius - r\n",
    "    \n",
    "    if distance_to_sphere > 0.0:\n",
    "        cx.append(x)\n",
    "        cy.append(y)\n",
    "        cz.append(z)\n",
    "        radius.append(r)\n",
    "    else:\n",
    "        print('Remove sphere at',x,y,z)"
   ]
  },
  {
   "cell_type": "code",
   "execution_count": 2,
   "metadata": {},
   "outputs": [],
   "source": [
    "D = {'cx':cx, 'cy':cy, 'cz':cz, 'radius':radius}"
   ]
  },
  {
   "cell_type": "code",
   "execution_count": 3,
   "metadata": {},
   "outputs": [
    {
     "name": "stdout",
     "output_type": "stream",
     "text": [
      "           cx        cy        cz    radius\n",
      "0    0.370915  0.881701  0.137364  0.039215\n",
      "1    0.922644  0.212934  0.618384  0.068056\n",
      "2    0.661870  0.446012  0.552006  0.076865\n",
      "3    0.862794  0.612684  0.075692  0.047177\n",
      "4    0.096914  0.706844  0.123762  0.060713\n",
      "..        ...       ...       ...       ...\n",
      "961  0.549274  0.742324  0.374094  0.055607\n",
      "962  0.353827  0.879791  0.651109  0.046115\n",
      "963  0.976964  0.740558  0.417786  0.030168\n",
      "964  0.543571  0.759919  0.626206  0.055122\n",
      "965  0.624901  0.551459  0.886431  0.062415\n",
      "\n",
      "[966 rows x 4 columns]\n"
     ]
    }
   ],
   "source": [
    "# this  data frame now contains only the spheres that don't overlap the channel\n",
    "df = pd.DataFrame(D)\n",
    "print(df)"
   ]
  },
  {
   "cell_type": "code",
   "execution_count": 4,
   "metadata": {},
   "outputs": [],
   "source": [
    "df.to_csv(\"packoutnew.csv\",index=False,float_format='%.6g',sep=' ')"
   ]
  },
  {
   "cell_type": "code",
   "execution_count": null,
   "metadata": {},
   "outputs": [],
   "source": []
  },
  {
   "cell_type": "code",
   "execution_count": null,
   "metadata": {},
   "outputs": [],
   "source": []
  }
 ],
 "metadata": {
  "kernelspec": {
   "display_name": "Python 3",
   "language": "python",
   "name": "python3"
  },
  "language_info": {
   "codemirror_mode": {
    "name": "ipython",
    "version": 3
   },
   "file_extension": ".py",
   "mimetype": "text/x-python",
   "name": "python",
   "nbconvert_exporter": "python",
   "pygments_lexer": "ipython3",
   "version": "3.7.6"
  }
 },
 "nbformat": 4,
 "nbformat_minor": 4
}
